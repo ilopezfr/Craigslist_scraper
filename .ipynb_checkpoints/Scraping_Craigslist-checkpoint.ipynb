{
 "cells": [
  {
   "cell_type": "markdown",
   "metadata": {},
   "source": [
    "## Scraping Craiglist on the hunt for an Apartment in San Francisco\n"
   ]
  },
  {
   "cell_type": "code",
   "execution_count": 1,
   "metadata": {
    "collapsed": false
   },
   "outputs": [
    {
     "name": "stdout",
     "output_type": "stream",
     "text": [
      "Populating the interactive namespace from numpy and matplotlib\n"
     ]
    }
   ],
   "source": [
    "import pandas as pd\n",
    "%pylab inline"
   ]
  },
  {
   "cell_type": "markdown",
   "metadata": {},
   "source": [
    "First we need to figure out how to submit a query to Craigslist. As with many websites, one way you can do this is simply by constructing the proper URL and sending it to Craigslist. Here's a sample URL that is returned after manually typing in a search to Craigslist:\n",
    "\n",
    "`http://sfbay.craigslist.org/search/eby/apa?bedrooms=1&pets_cat=1&pets_dog=1&is_furnished=1`\n",
    "       \n",
    "This is actually two separate things. The first tells craigslist what kind of thing we're searching for:\n",
    "\n",
    "`http://sfbay.craigslist.org/search/eby/apa` says we're searching in the sfbay area (sfbay) for apartments (apa) in the east bay (eby).\n",
    "\n",
    "The second part contains the parameters that we pass to the search:\n",
    "`?bedrooms=1&pets_cat=1&pets_dog=1&is_furnished=1`\n",
    "says we want 1+ bedrooms, cats allowed, dogs allowed, and furnished apartments. You can manually change these fields in order to create new queries."
   ]
  },
  {
   "cell_type": "markdown",
   "metadata": {},
   "source": [
    "### Retrieve a single posting\n",
    "Let's send some custom URLs to Craigslist."
   ]
  },
  {
   "cell_type": "code",
   "execution_count": 2,
   "metadata": {
    "collapsed": true
   },
   "outputs": [],
   "source": [
    "import requests"
   ]
  },
  {
   "cell_type": "markdown",
   "metadata": {},
   "source": [
    "In internet lingo, we're posting a `get` requests to the website, which simply says that we'd like to get some information from the Craigslist website. With requests, we can easily create a dictionary that specifies parameters in the URL:"
   ]
  },
  {
   "cell_type": "code",
   "execution_count": 61,
   "metadata": {
    "collapsed": false
   },
   "outputs": [],
   "source": [
    "url_base = 'http://sfbay.craigslist.org/search/eby/apa'\n",
    "params = dict(bedrooms=1,          # 1+ bedrooms \n",
    "              pets_dog=1,          #pet friendly\n",
    "              nh=[17,18,19,22])    #list the neighborhoods\n",
    "rsp = requests.get(url_base, params=params)"
   ]
  },
  {
   "cell_type": "code",
   "execution_count": 62,
   "metadata": {
    "collapsed": false
   },
   "outputs": [
    {
     "name": "stdout",
     "output_type": "stream",
     "text": [
      "http://sfbay.craigslist.org/search/eby/apa?nh=17&nh=18&nh=19&nh=22&pets_dog=1&bedrooms=1\n"
     ]
    }
   ],
   "source": [
    "# Note that requests automatically created the right URL:\n",
    "print(rsp.url)"
   ]
  },
  {
   "cell_type": "code",
   "execution_count": 41,
   "metadata": {
    "collapsed": false
   },
   "outputs": [
    {
     "name": "stdout",
     "output_type": "stream",
     "text": [
      "﻿<!DOCTYPE html>\n",
      "\n",
      "<html class=\"no-js\"><head>\n",
      "    <title>SF bay area apartments / housing rentals  - craigslist</title>\n",
      "\n",
      "    <meta name=\"description\" content=\"SF bay area apartments / housing rentals  - craigslist\">\n",
      "    <meta http-equiv=\"X-UA-Compatible\" content=\"IE=Edge\"/>\n",
      "    <link rel=\"canonical\" href=\"https://sfbay.craigslist.org/search/eby/apa\">\n",
      "    <link rel=\"alternate\" type=\"application/rss+xml\" href=\"https://sfbay.craigslist.org/search/eby/apa?bedrooms=1&amp;format=rss&amp;nh=17&amp;nh=18\n"
     ]
    }
   ],
   "source": [
    "# We can access the content of the response that Craigslist sent back here:\n",
    "print(rsp.text[:500])"
   ]
  },
  {
   "cell_type": "markdown",
   "metadata": {},
   "source": [
    " Remember, websites serve HTML documents, and usually your browser will automatically render this into a nice webpage for you. Since we're doing this with python, we get back the raw text. This is really useful, but how can we possibly parse it all?"
   ]
  },
  {
   "cell_type": "code",
   "execution_count": 42,
   "metadata": {
    "collapsed": false
   },
   "outputs": [
    {
     "name": "stdout",
     "output_type": "stream",
     "text": [
      "﻿\n",
      "<!DOCTYPE html>\n",
      "<html class=\"no-js\">\n",
      " <head>\n",
      "  <title>\n",
      "   SF bay area apartments / housing rentals  - craigslist\n",
      "  </title>\n",
      "  <meta content=\"SF bay area apartments / housing rentals  - craigslist\" name=\"description\">\n",
      "   <meta content=\"IE=Edge\" http-equiv=\"X-UA-Compatible\"/>\n",
      "   <link href=\"https://sfbay.craigslist.org/search/eby/apa\" rel=\"canonical\">\n",
      "    <link href=\"https://sfbay.craigslist.org/search/eby/apa?bedrooms=1&amp;format=rss&amp;nh=17&amp;nh=18&amp;nh=19&amp;nh=22&amp;pets_dog=1\" rel=\"alternate\" title=\"RSS feed for craigslist | SF bay area apartments / housing rentals  - craigslist \" type=\"application/rss+xml\">\n",
      "     <meta content=\"width=device-width,initial-scale=1\" name=\"viewport\">\n",
      "      <link href=\"//www.craigslist.org/styles/cl.css?v=68881849a61886e14d06f4f4fa563d57\" media=\"all\" rel=\"stylesheet\" type=\"text/css\">\n",
      "       <link href=\"//www.craigslist.org/styles/search.css?v=af75b8cc1e45fb421a5858821aadf330\" media=\"all\" rel=\"stylesheet\" type=\"text/css\">\n",
      "        <link href=\"//\n"
     ]
    }
   ],
   "source": [
    "from bs4 import BeautifulSoup as bs4\n",
    "\n",
    "# BS4 can quickly parse our text, make sure to tell it that you're giving html\n",
    "html = bs4(rsp.text, 'html.parser')\n",
    "\n",
    "# BS makes it easy to look through a document\n",
    "print(html.prettify()[:1000])"
   ]
  },
  {
   "cell_type": "markdown",
   "metadata": {},
   "source": [
    "Beautiful soup lets us quickly search through an HTML document. We can pull out whatever information we want.\n",
    "Scanning through this text, we see a common structure repeated `<p class=\"row\">`. This seems to be the container that has information for a single apartment.\n",
    "In BeautifulSoup, we can quickly get all instances of this container:"
   ]
  },
  {
   "cell_type": "code",
   "execution_count": 43,
   "metadata": {
    "collapsed": false
   },
   "outputs": [
    {
     "name": "stdout",
     "output_type": "stream",
     "text": [
      "100\n"
     ]
    }
   ],
   "source": [
    "# find_all will pull entries that fit your search criteria.\n",
    "# Note that we have to use brackets to define the `attrs` dictionary\n",
    "# Because \"class\" is a special word in python, so we need to give a string.\n",
    "apts = html.find_all('p', attrs={'class': 'row'})\n",
    "print(len(apts))"
   ]
  },
  {
   "cell_type": "markdown",
   "metadata": {},
   "source": [
    "Now let's look inside the values of a single apartment listing:"
   ]
  },
  {
   "cell_type": "code",
   "execution_count": 44,
   "metadata": {
    "collapsed": false
   },
   "outputs": [
    {
     "name": "stdout",
     "output_type": "stream",
     "text": [
      "<p class=\"row\" data-pid=\"5728350077\" data-repost-of=\"4924476423\">\n",
      " <a class=\"i gallery\" data-ids=\"1:00202_lB3XZvcCwGy,1:00U0U_dUC0IeXaGDr,1:01616_9k03zv6gtc0,1:00B0B_266r34Ygn3z,1:00M0M_6zXiZjRkGee,1:00g0g_6SuFIPugXxO,1:00N0N_hwRCKP15qcL,1:01717_7zgxFcDLPLv,1:00R0R_aGAqSvOU66K,1:00t0t_fFxGiZfeHWc,1:00A0A_1eUwqhx0zuE,1:00202_lB3XZvcCwGy\" href=\"//sfbay.craigslist.org/sfc/apa/5728350077.html\">\n",
      " </a>\n",
      " <span class=\"txt\">\n",
      "  <span class=\"pl\">\n",
      "   <span class=\"icon icon-star\" role=\"button\">\n",
      "    <span class=\"screen-reader-text\">\n",
      "     <? __(\"favorite this post\") ?>\n",
      "    </span>\n",
      "   </span>\n",
      "   <time datetime=\"2016-08-14 07:23\" title=\"Sun 14 Aug 07:23:30 AM\">\n",
      "    Aug 14\n",
      "   </time>\n",
      "   <a class=\"hdrlnk\" data-id=\"5728350077\" href=\"//sfbay.craigslist.org/sfc/apa/5728350077.html\">\n",
      "    <span id=\"titletextonly\">\n",
      "     Beautiful Spacious 1 Bedroom-1 Bath Studio W/ Garden Pets OK\n",
      "    </span>\n",
      "   </a>\n",
      "  </span>\n",
      "  <span class=\"l2\">\n",
      "   <span class=\"price\">\n",
      "    $3200\n",
      "   </span>\n",
      "   <span class=\"housing\">\n",
      "    / 1br - 800ft\n",
      "    <sup>\n",
      "     2\n",
      "    </sup>\n",
      "    -\n",
      "   </span>\n",
      "   <span class=\"pnr\">\n",
      "    <small>\n",
      "     <span class=\"nearby\" title=\"SF bay area\">\n",
      "      (sfo &gt; mission district)\n",
      "     </span>\n",
      "    </small>\n",
      "    <span class=\"px\">\n",
      "     <span class=\"p\">\n",
      "      pic\n",
      "      <span class=\"maptag\" data-pid=\"5728350077\">\n",
      "       map\n",
      "      </span>\n",
      "     </span>\n",
      "    </span>\n",
      "   </span>\n",
      "  </span>\n",
      "  <span class=\"js-only banish-unbanish\">\n",
      "   <span class=\"banish\">\n",
      "    <span class=\"icon icon-trash\" role=\"button\">\n",
      "    </span>\n",
      "    <span class=\"screen-reader-text\">\n",
      "     hide this posting\n",
      "    </span>\n",
      "   </span>\n",
      "   <span class=\"unbanish\">\n",
      "    <span class=\"icon icon-trash red\" role=\"button\">\n",
      "    </span>\n",
      "    unhide\n",
      "   </span>\n",
      "  </span>\n",
      " </span>\n",
      "</p>\n",
      "\n"
     ]
    }
   ],
   "source": [
    "# We can see that there's a consistent structure to a listing.\n",
    "# There is a 'time', a 'name', a 'housing' field with size/n_brs, etc.\n",
    "this_appt = apts[15]\n",
    "print(this_appt.prettify())"
   ]
  },
  {
   "cell_type": "code",
   "execution_count": 104,
   "metadata": {
    "collapsed": false
   },
   "outputs": [
    {
     "name": "stdout",
     "output_type": "stream",
     "text": [
      "$3200\n",
      "  (sfo > mission district)   pic map \n",
      "  (sfo > mission district)    \n",
      "mission district)\n",
      "mission district\n"
     ]
    }
   ],
   "source": [
    "# So now we'll pull out a couple of things we might be interested in:\n",
    "# It looks like \"housing\" contains size information. We'll pull that.\n",
    "# Note that `findAll` returns a list, since there's only one entry in\n",
    "# this HTML, we'll just pull the first item.\n",
    "size = this_appt.findAll(attrs={'class': 'housing'})[0].text\n",
    "price = this_appt.findAll(attrs={'class': 'price'})[0].text\n",
    "pnr = this_appt.findAll(attrs={'class': 'pnr'})[0].text\n",
    "pnr1 = pnr.replace('pic map','')\n",
    "pnr2 = pnr1.strip('( sfo > ')\n",
    "pnr3 = pnr2.split(')', 1)[0]\n",
    "print(price)\n",
    "print(pnr)\n",
    "print(pnr1)\n",
    "print(pnr2)\n",
    "print(pnr3)"
   ]
  },
  {
   "cell_type": "markdown",
   "metadata": {},
   "source": [
    "We can query split this into n_bedrooms and the size. However, note that sometimes one of these features might be missing. So we'll use an if statement to try and capture this variability:"
   ]
  },
  {
   "cell_type": "code",
   "execution_count": 46,
   "metadata": {
    "collapsed": true
   },
   "outputs": [],
   "source": [
    "def find_size_and_brs(size):\n",
    "    split = size.strip('/- ').split(' - ')\n",
    "    if len(split) == 2:\n",
    "        n_brs = split[0].replace('br', '')\n",
    "        this_size = split[1].replace('ft2', '')\n",
    "    elif 'br' in split[0]:\n",
    "        # It's the n_bedrooms\n",
    "        n_brs = split[0].replace('br', '')\n",
    "        this_size = np.nan\n",
    "    elif 'ft2' in split[0]:\n",
    "        # It's the size\n",
    "        this_size = split[0].replace('ft2', '')\n",
    "        n_brs = np.nan\n",
    "    return float(this_size), float(n_brs)\n",
    "this_size, n_brs = find_size_and_brs(size)"
   ]
  },
  {
   "cell_type": "code",
   "execution_count": 63,
   "metadata": {
    "collapsed": true
   },
   "outputs": [],
   "source": [
    "# Now we'll also pull a few other things:\n",
    "this_time = this_appt.find('time')['datetime']\n",
    "this_time = pd.to_datetime(this_time)\n",
    "this_price = float(this_appt.find('span', {'class': 'price'}).text.strip('$'))\n",
    "this_title = this_appt.find('a', attrs={'class': 'hdrlnk'}).text"
   ]
  },
  {
   "cell_type": "code",
   "execution_count": 48,
   "metadata": {
    "collapsed": false
   },
   "outputs": [
    {
     "name": "stdout",
     "output_type": "stream",
     "text": [
      "800.0\n",
      "1.0\n",
      "2016-08-14 07:23:00\n",
      "3200.0\n",
      "Beautiful Spacious 1 Bedroom-1 Bath Studio W/ Garden Pets OK\n"
     ]
    }
   ],
   "source": [
    "# Now we've got the n_bedrooms, size, price, and time of listing\n",
    "print('\\n'.join([str(i) for i in [this_size, n_brs, this_time, this_price, this_title]]))"
   ]
  },
  {
   "cell_type": "markdown",
   "metadata": {},
   "source": [
    "### Querying lots of postings\n",
    "\n",
    "Cool - so now we've got some useful information about one listing. Now let's loop through many listings across several locations.\n",
    "It looks like there is a \"city code\" that distinguishes where you're searching. Here is a not up to date list: link\n",
    "Within the Bay Area, there are also a lot of sub-regional locations, which we'll define here, then loop through them all.\n",
    "Note that the s parameter tells Craiglist where to start in terms of the number of results given back. E.g., if s==100, then it starts at the 100th entry."
   ]
  },
  {
   "cell_type": "code",
   "execution_count": 49,
   "metadata": {
    "collapsed": true
   },
   "outputs": [],
   "source": [
    "loc_prefixes = ['sfc']   #Just SFC\n",
    "# loc_prefixes = ['eby', 'nby', 'sfc', 'sby', 'pen']\n",
    "#eby = east bay\n",
    "#nby = north bay\n",
    "#sfo = san francisco\n",
    "#sby = south bay\n",
    "#pen = peninsula"
   ]
  },
  {
   "cell_type": "markdown",
   "metadata": {},
   "source": [
    "We'll define a few helper functions to handle edge cases and make sure that we don't get any errors."
   ]
  },
  {
   "cell_type": "code",
   "execution_count": 77,
   "metadata": {
    "collapsed": true
   },
   "outputs": [],
   "source": [
    "def find_prices(results):\n",
    "    prices = []\n",
    "    for rw in results:\n",
    "        price = rw.find('span', {'class': 'price'})\n",
    "        if price is not None:\n",
    "            price = float(price.text.strip('$'))\n",
    "        else:\n",
    "            price = np.nan\n",
    "        prices.append(price)\n",
    "    return prices\n",
    "\n",
    "\n",
    "def find_times(results):\n",
    "    times = []\n",
    "    for rw in apts:\n",
    "        if time is not None:\n",
    "            time = time['datetime']\n",
    "            time = pd.to_datetime(time)\n",
    "        else:\n",
    "            time = np.nan\n",
    "        times.append(time)\n",
    "    return times"
   ]
  },
  {
   "cell_type": "code",
   "execution_count": 105,
   "metadata": {
    "collapsed": true
   },
   "outputs": [],
   "source": [
    "def find_neighborhoods(results):\n",
    "    neighborhoods = []\n",
    "    for rw in results:\n",
    "        neighborhood = rw.findAll(attrs={'class': 'pnr'})[0].text\n",
    "        if neighborhood is not None:\n",
    "            #neighborhood = neighborhood.replace('pic map','')\n",
    "            neighborhood = neighborhood.strip('( sfo > ')\n",
    "            neighborhood = neighborhood.split(')', 1)[0]\n",
    "        else:\n",
    "            neighborhood = np.nan\n",
    "        neighborhoods.append(neighborhood)\n",
    "    return neighborhoods"
   ]
  },
  {
   "cell_type": "markdown",
   "metadata": {},
   "source": [
    "Now we're ready to go. We'll loop through all of our locations, and pull a number of entries for each one. We'll use a pandas dataframe to store everything, because this will be useful for future analysis.\n",
    "\n",
    "Note - Craigslist won't take kindly to you querying their server a bunch of times at once. Make sure not to pull too much data too quickly. Another option is to add a delay to each loop iteration. Otherwise your IP might get banned."
   ]
  },
  {
   "cell_type": "code",
   "execution_count": 106,
   "metadata": {
    "collapsed": false
   },
   "outputs": [
    {
     "name": "stdout",
     "output_type": "stream",
     "text": [
      "sfc\n"
     ]
    }
   ],
   "source": [
    "# Now loop through all of this and store the results\n",
    "results = []  # We'll store the data here\n",
    "# Careful with this...too many queries == your IP gets banned temporarily\n",
    "search_indices = np.arange(0, 300, 100)\n",
    "params = dict(bedrooms=1,          # 1+ bedrooms \n",
    "              pets_dog=1,          #pet friendly\n",
    "              nh=[17,18,19,22])    #list the neighborhoods\n",
    "for loc in loc_prefixes:\n",
    "    print loc\n",
    "    for i in search_indices:\n",
    "        url = 'http://sfbay.craigslist.org/search/{0}/apa'.format(loc)\n",
    "        resp = requests.get(url, params={'bedrooms': 1, \n",
    "                                         'pets_dog':1,\n",
    "                                         's': i})\n",
    "        txt = bs4(resp.text, 'html.parser')\n",
    "        apts = txt.findAll(attrs={'class': \"row\"})\n",
    "        \n",
    "        # Find the size of all entries\n",
    "        size_text = [rw.findAll(attrs={'class': 'housing'})[0].text\n",
    "                     for rw in apts]\n",
    "        sizes_brs = [find_size_and_brs(stxt) for stxt in size_text]\n",
    "        sizes, n_brs = zip(*sizes_brs)  # This unzips into 2 vectors\n",
    "     \n",
    "        # Find the title and link\n",
    "        title = [rw.find('a', attrs={'class': 'hdrlnk'}).text\n",
    "                      for rw in apts]\n",
    "        links = [rw.find('a', attrs={'class': 'hdrlnk'})['href']\n",
    "                 for rw in apts]\n",
    "        \n",
    "        # Find the time, price, neighborhood\n",
    "        time = [pd.to_datetime(rw.find('time')['datetime']) for rw in apts]\n",
    "        price = find_prices(apts)\n",
    "        neighborhood = find_neighborhoods(apts)\n",
    "        \n",
    "        # We'll create a dataframe to store all the data\n",
    "        data = np.array([price, sizes, n_brs, title,neighborhood, time, links ])\n",
    "        col_names = [ 'price', 'size', 'brs', 'title','neighborhood','time', 'link' ]\n",
    "        df = pd.DataFrame(data.T, columns=col_names)\n",
    "        df = df.set_index('time')\n",
    "        \n",
    "        # Add the location variable to all entries\n",
    "        df['loc'] = loc\n",
    "        results.append(df)\n",
    "        \n",
    "# Finally, concatenate all the results\n",
    "results = pd.concat(results, axis=0)"
   ]
  },
  {
   "cell_type": "code",
   "execution_count": 107,
   "metadata": {
    "collapsed": false
   },
   "outputs": [
    {
     "name": "stderr",
     "output_type": "stream",
     "text": [
      "/Users/iglopezfrancos/anaconda/lib/python2.7/site-packages/ipykernel/__main__.py:2: FutureWarning: convert_objects is deprecated.  Use the data-type specific converters pd.to_datetime, pd.to_timedelta and pd.to_numeric.\n",
      "  from ipykernel import kernelapp as app\n"
     ]
    }
   ],
   "source": [
    "# We'll make sure that the right columns are represented numerically:\n",
    "results[['price', 'size', 'brs']] = results[['price', 'size', 'brs']].convert_objects(convert_numeric=True)"
   ]
  },
  {
   "cell_type": "code",
   "execution_count": 108,
   "metadata": {
    "collapsed": false
   },
   "outputs": [
    {
     "data": {
      "text/html": [
       "<div>\n",
       "<table border=\"1\" class=\"dataframe\">\n",
       "  <thead>\n",
       "    <tr style=\"text-align: right;\">\n",
       "      <th></th>\n",
       "      <th>price</th>\n",
       "      <th>size</th>\n",
       "      <th>brs</th>\n",
       "      <th>title</th>\n",
       "      <th>neighborhood</th>\n",
       "      <th>link</th>\n",
       "      <th>loc</th>\n",
       "    </tr>\n",
       "    <tr>\n",
       "      <th>time</th>\n",
       "      <th></th>\n",
       "      <th></th>\n",
       "      <th></th>\n",
       "      <th></th>\n",
       "      <th></th>\n",
       "      <th></th>\n",
       "      <th></th>\n",
       "    </tr>\n",
       "  </thead>\n",
       "  <tbody>\n",
       "    <tr>\n",
       "      <th>2016-08-14 18:00:00</th>\n",
       "      <td>4745.0</td>\n",
       "      <td>721.0</td>\n",
       "      <td>1.0</td>\n",
       "      <td>Awesome 2x2 Home Available Now!</td>\n",
       "      <td>SOMA / south beach</td>\n",
       "      <td>/sfc/apa/5732802973.html</td>\n",
       "      <td>sfc</td>\n",
       "    </tr>\n",
       "    <tr>\n",
       "      <th>2016-08-14 17:52:00</th>\n",
       "      <td>3295.0</td>\n",
       "      <td>NaN</td>\n",
       "      <td>1.0</td>\n",
       "      <td>California &amp; Stockton/Available Now/Walk to Dw...</td>\n",
       "      <td>nob hill</td>\n",
       "      <td>/sfc/apa/5732794627.html</td>\n",
       "      <td>sfc</td>\n",
       "    </tr>\n",
       "    <tr>\n",
       "      <th>2016-08-14 17:51:00</th>\n",
       "      <td>4495.0</td>\n",
       "      <td>NaN</td>\n",
       "      <td>2.0</td>\n",
       "      <td>Pine &amp; Stockton/Remodeled/Great Location/W&amp;D; ...</td>\n",
       "      <td>nob hill</td>\n",
       "      <td>/sfc/apa/5732793306.html</td>\n",
       "      <td>sfc</td>\n",
       "    </tr>\n",
       "    <tr>\n",
       "      <th>2016-08-14 17:49:00</th>\n",
       "      <td>3995.0</td>\n",
       "      <td>NaN</td>\n",
       "      <td>2.0</td>\n",
       "      <td>Baker &amp; McAllister/Remodeled/Available Now/Gre...</td>\n",
       "      <td>alamo square / nopa</td>\n",
       "      <td>/sfc/apa/5732790570.html</td>\n",
       "      <td>sfc</td>\n",
       "    </tr>\n",
       "    <tr>\n",
       "      <th>2016-08-14 17:45:00</th>\n",
       "      <td>3863.0</td>\n",
       "      <td>845.0</td>\n",
       "      <td>1.0</td>\n",
       "      <td>AMAZING 1BR/1BA WITH A BAY WINDOW IN A PET-FRI...</td>\n",
       "      <td>SOMA / south beach</td>\n",
       "      <td>/sfc/apa/5732786466.html</td>\n",
       "      <td>sfc</td>\n",
       "    </tr>\n",
       "  </tbody>\n",
       "</table>\n",
       "</div>"
      ],
      "text/plain": [
       "                      price   size  brs  \\\n",
       "time                                      \n",
       "2016-08-14 18:00:00  4745.0  721.0  1.0   \n",
       "2016-08-14 17:52:00  3295.0    NaN  1.0   \n",
       "2016-08-14 17:51:00  4495.0    NaN  2.0   \n",
       "2016-08-14 17:49:00  3995.0    NaN  2.0   \n",
       "2016-08-14 17:45:00  3863.0  845.0  1.0   \n",
       "\n",
       "                                                                 title  \\\n",
       "time                                                                     \n",
       "2016-08-14 18:00:00                    Awesome 2x2 Home Available Now!   \n",
       "2016-08-14 17:52:00  California & Stockton/Available Now/Walk to Dw...   \n",
       "2016-08-14 17:51:00  Pine & Stockton/Remodeled/Great Location/W&D; ...   \n",
       "2016-08-14 17:49:00  Baker & McAllister/Remodeled/Available Now/Gre...   \n",
       "2016-08-14 17:45:00  AMAZING 1BR/1BA WITH A BAY WINDOW IN A PET-FRI...   \n",
       "\n",
       "                            neighborhood                      link  loc  \n",
       "time                                                                     \n",
       "2016-08-14 18:00:00   SOMA / south beach  /sfc/apa/5732802973.html  sfc  \n",
       "2016-08-14 17:52:00             nob hill  /sfc/apa/5732794627.html  sfc  \n",
       "2016-08-14 17:51:00             nob hill  /sfc/apa/5732793306.html  sfc  \n",
       "2016-08-14 17:49:00  alamo square / nopa  /sfc/apa/5732790570.html  sfc  \n",
       "2016-08-14 17:45:00   SOMA / south beach  /sfc/apa/5732786466.html  sfc  "
      ]
     },
     "execution_count": 108,
     "metadata": {},
     "output_type": "execute_result"
    }
   ],
   "source": [
    "# And there you have it:\n",
    "results.head()"
   ]
  },
  {
   "cell_type": "code",
   "execution_count": 96,
   "metadata": {
    "collapsed": false
   },
   "outputs": [
    {
     "data": {
      "text/plain": [
       "<matplotlib.text.Text at 0x11573fc10>"
      ]
     },
     "execution_count": 96,
     "metadata": {},
     "output_type": "execute_result"
    },
    {
     "data": {
      "image/png": "[encoded data removed]",
      "text/plain": [
       "<matplotlib.figure.Figure at 0x11b4b9f50>"
      ]
     },
     "metadata": {},
     "output_type": "display_data"
    }
   ],
   "source": [
    "ax = results.hist('price', bins=np.arange(0, 10000, 100))[0, 0]\n",
    "#ax.set_title('Mother of god.', fontsize=20)\n",
    "ax.set_xlabel('Price', fontsize=18)\n",
    "ax.set_ylabel('Count', fontsize=18)"
   ]
  },
  {
   "cell_type": "code",
   "execution_count": 116,
   "metadata": {
    "collapsed": false
   },
   "outputs": [
    {
     "data": {
      "text/plain": [
       "{u'',\n",
       " u'112 Kathy Ct, Union City, CA',\n",
       " u'3800 North El Mirage Rd., #3400, Avondale, AZ 85392',\n",
       " u'Campbell, CA',\n",
       " u'Concord',\n",
       " u'PORT COSTA',\n",
       " u'SOMA / south beach',\n",
       " u'San Francisco',\n",
       " u'San Francisco - Alamo Square',\n",
       " u'Vallejo',\n",
       " u'alamo square / nopa',\n",
       " u'bayview',\n",
       " u'bernal heights',\n",
       " u'castro / upper market',\n",
       " u'cole valley / ashbury hts',\n",
       " u'downtown / civic / van ness',\n",
       " u'excelsior / outer mission',\n",
       " u'haight ashbury',\n",
       " u'hayes valley',\n",
       " u'hayward',\n",
       " u'inancial district',\n",
       " u'ingleside / SFSU / CCSF',\n",
       " u'inner richmond',\n",
       " u'inner sunset / UCSF',\n",
       " u'laurel hts / presidio',\n",
       " u'lower haight',\n",
       " u'lower nob hill',\n",
       " u'lower pac hts',\n",
       " u'map',\n",
       " u'marina / cow hollow',\n",
       " u'mission district',\n",
       " u'nob hill',\n",
       " u'noe valley',\n",
       " u'north beach / telegraph hill',\n",
       " u'pacific heights',\n",
       " u'potrero hill',\n",
       " u'richmond / seacliff',\n",
       " u'rtment -- Available Today!!4',\n",
       " u'russian hill',\n",
       " u'tenderloin',\n",
       " u'treasure island',\n",
       " u'twin peaks / diamond hts',\n",
       " u'unset / parkside',\n",
       " u'west portal / forest hill'}"
      ]
     },
     "execution_count": 116,
     "metadata": {},
     "output_type": "execute_result"
    }
   ],
   "source": [
    "neighborhoods = set()\n",
    "for i in results.neighborhood:\n",
    "    neighborhoods.add(i)\n",
    "neighborhoods"
   ]
  },
  {
   "cell_type": "code",
   "execution_count": 115,
   "metadata": {
    "collapsed": false
   },
   "outputs": [
    {
     "ename": "NameError",
     "evalue": "name 'cities' is not defined",
     "output_type": "error",
     "traceback": [
      "\u001b[0;31m---------------------------------------------------------------------------\u001b[0m",
      "\u001b[0;31mNameError\u001b[0m                                 Traceback (most recent call last)",
      "\u001b[0;32m<ipython-input-115-4fad28c0ba7c>\u001b[0m in \u001b[0;36m<module>\u001b[0;34m()\u001b[0m\n\u001b[1;32m      3\u001b[0m \u001b[0mbins\u001b[0m \u001b[0;34m=\u001b[0m \u001b[0mnp\u001b[0m\u001b[0;34m.\u001b[0m\u001b[0marange\u001b[0m\u001b[0;34m(\u001b[0m\u001b[0;36m0\u001b[0m\u001b[0;34m,\u001b[0m \u001b[0;36m40\u001b[0m\u001b[0;34m,\u001b[0m \u001b[0;36m1\u001b[0m\u001b[0;34m)\u001b[0m\u001b[0;34m\u001b[0m\u001b[0m\n\u001b[1;32m      4\u001b[0m \u001b[0;34m\u001b[0m\u001b[0m\n\u001b[0;32m----> 5\u001b[0;31m \u001b[0;32mfor\u001b[0m \u001b[0max\u001b[0m\u001b[0;34m,\u001b[0m \u001b[0mcity_name\u001b[0m \u001b[0;32min\u001b[0m \u001b[0mzip\u001b[0m\u001b[0;34m(\u001b[0m\u001b[0maxes\u001b[0m\u001b[0;34m.\u001b[0m\u001b[0mravel\u001b[0m\u001b[0;34m(\u001b[0m\u001b[0;34m)\u001b[0m\u001b[0;34m,\u001b[0m \u001b[0mcities\u001b[0m\u001b[0;34m)\u001b[0m\u001b[0;34m:\u001b[0m\u001b[0;34m\u001b[0m\u001b[0m\n\u001b[0m\u001b[1;32m      6\u001b[0m     ax.hist(data[data[city_name] == 1].days_to_va, \n\u001b[1;32m      7\u001b[0m             bins=bins, histtype='stepfilled', color='g', ec='none', alpha=.2, normed=True)\n",
      "\u001b[0;31mNameError\u001b[0m: name 'cities' is not defined"
     ]
    },
    {
     "name": "stderr",
     "output_type": "stream",
     "text": [
      "/Users/iglopezfrancos/anaconda/lib/python2.7/site-packages/matplotlib/figure.py:1744: UserWarning: This figure includes Axes that are not compatible with tight_layout, so its results might be incorrect.\n",
      "  warnings.warn(\"This figure includes Axes that are not \"\n"
     ]
    },
    {
     "data": {
      "image/png": "[encoded data removed]",
      "text/plain": [
       "<matplotlib.figure.Figure at 0x11ab235d0>"
      ]
     },
     "metadata": {},
     "output_type": "display_data"
    }
   ],
   "source": [
    "fig, axes = plt.subplots(nrows=3, ncols=1, figsize=(10, 10), tight_layout=True)\n",
    "\n",
    "bins = np.arange(0, 40, 1)\n",
    "\n",
    "for ax, city_name in zip(axes.ravel(), cities):\n",
    "    ax.hist(data[data[city_name] == 1].days_to_va, \n",
    "            bins=bins, histtype='stepfilled', color='g', ec='none', alpha=.2, normed=True)\n",
    "    ax.hist(data[data[city_name] == 1].days_to_fc, \n",
    "            bins=bins, histtype='stepfilled', color='r', ec='none', alpha=.3, normed=True)\n",
    "            \n",
    "    ax.set_xlabel(\"Days\")\n",
    "    ax.set_ylabel(city_name)\n",
    "    ax.set_ylim(0, .1)"
   ]
  },
  {
   "cell_type": "code",
   "execution_count": 21,
   "metadata": {
    "collapsed": true
   },
   "outputs": [],
   "source": [
    "# Finally, we can save this data to a CSV to play around with it later.\n",
    "# We'll have to remove some annoying characters first:\n",
    "import string\n",
    "use_chars = string.ascii_letters +\\\n",
    "    ''.join([str(i) for i in range(10)]) +\\\n",
    "    ' /\\.'\n",
    "results['title'] = results['title'].apply(\n",
    "    lambda a: ''.join([i for i in a if i in use_chars]))\n",
    "\n",
    "results.to_csv('../Craigslist_scrapper/craigslist_results.csv')"
   ]
  },
  {
   "cell_type": "markdown",
   "metadata": {},
   "source": [
    "### Send it to your Gmail"
   ]
  },
  {
   "cell_type": "markdown",
   "metadata": {},
   "source": [
    "This basically involves pulling the top listings from craigslist, checking this against an “old” list, and detecting if there’s anything new that has popped up since the last time you checked.\n",
    "Here’s a simple script that will get the job done."
   ]
  },
  {
   "cell_type": "code",
   "execution_count": 26,
   "metadata": {
    "collapsed": false
   },
   "outputs": [],
   "source": [
    "import gmail\n",
    "import time"
   ]
  },
  {
   "cell_type": "code",
   "execution_count": 31,
   "metadata": {
    "collapsed": false
   },
   "outputs": [],
   "source": [
    "gm = gmail.GMail('xxnacholopezxx', 'Viernes29')\n",
    "gm.connect()\n",
    "\n",
    "# Define our URL and a query we want to post\n",
    "base_url = 'http://sfbay.craigslist.org/'\n",
    "url = base_url + '/search/sfc/apa?hasPic=1&nh=17&nh=18&nh=19&nh=22&max_price=3300&bedrooms=1&pets_dog=1'\n",
    "\n",
    "# bedrooms = 1\n",
    "# pets_dog=1\n",
    "# max_price= 3300\n",
    "# 17= marina / cow hollow\n",
    "# 18= mission district\n",
    "# 19= nob hill\n",
    "# 22= north beach / telegraph hill\n",
    "\n",
    "# This will remove weird characters that people put in titles like ****!***!!!\n",
    "use_chars = string.ascii_letters + ''.join([str(i) for i in range(10)]) + ' '"
   ]
  },
  {
   "cell_type": "code",
   "execution_count": 33,
   "metadata": {
    "collapsed": false
   },
   "outputs": [
    {
     "ename": "KeyboardInterrupt",
     "evalue": "",
     "output_type": "error",
     "traceback": [
      "\u001b[0;31m---------------------------------------------------------------------------\u001b[0m",
      "\u001b[0;31mKeyboardInterrupt\u001b[0m                         Traceback (most recent call last)",
      "\u001b[0;32m<ipython-input-33-2b5a617d6e87>\u001b[0m in \u001b[0;36m<module>\u001b[0;34m()\u001b[0m\n\u001b[1;32m     32\u001b[0m     \u001b[0;31m# Sleep a bit so CL doesn't ban us\u001b[0m\u001b[0;34m\u001b[0m\u001b[0;34m\u001b[0m\u001b[0m\n\u001b[1;32m     33\u001b[0m     \u001b[0msleep_amt\u001b[0m \u001b[0;34m=\u001b[0m \u001b[0mnp\u001b[0m\u001b[0;34m.\u001b[0m\u001b[0mrandom\u001b[0m\u001b[0;34m.\u001b[0m\u001b[0mrandint\u001b[0m\u001b[0;34m(\u001b[0m\u001b[0;36m60\u001b[0m\u001b[0;34m,\u001b[0m \u001b[0;36m120\u001b[0m\u001b[0;34m)\u001b[0m\u001b[0;34m\u001b[0m\u001b[0m\n\u001b[0;32m---> 34\u001b[0;31m     \u001b[0mtime\u001b[0m\u001b[0;34m.\u001b[0m\u001b[0msleep\u001b[0m\u001b[0;34m(\u001b[0m\u001b[0msleep_amt\u001b[0m\u001b[0;34m)\u001b[0m\u001b[0;34m\u001b[0m\u001b[0m\n\u001b[0m",
      "\u001b[0;31mKeyboardInterrupt\u001b[0m: "
     ]
    }
   ],
   "source": [
    "link_list = []  # We'll store the data here\n",
    "link_list_send = []  # This is a list of links to be sent\n",
    "send_list = []  # This is what will actually be sent in the email\n",
    "\n",
    "# Careful with this...too many queries == your IP gets banned temporarily\n",
    "while True:\n",
    "    resp = requests.get(url)\n",
    "    txt = bs4(resp.text, 'html.parser')\n",
    "    apts = txt.findAll(attrs={'class': \"row\"})\n",
    "    \n",
    "    # We're just going to pull the title and link\n",
    "    for apt in apts:\n",
    "        title = apt.find_all('a', attrs={'class': 'hdrlnk'})[0]\n",
    "        name = ''.join([i for i in title.text if i in use_chars])\n",
    "        link = title.attrs['href']\n",
    "        if link not in link_list and link not in link_list_send:\n",
    "            print('Found new listing')\n",
    "            link_list_send.append(link)\n",
    "            send_list.append(name + '  -  ' + base_url+link)\n",
    "            \n",
    "    # Flush the cache if we've found new entries\n",
    "    if len(link_list_send) > 0:\n",
    "        print('Sending mail!')\n",
    "        msg = '\\n'.join(send_list)\n",
    "        m = email.message.Message()\n",
    "        m.set_payload(msg)\n",
    "        gm.send(m, ['recipient_email@mydomain.com'])\n",
    "        link_list += link_list_send\n",
    "        link_list_send = []\n",
    "        send_list = []\n",
    "    \n",
    "    # Sleep a bit so CL doesn't ban us\n",
    "    sleep_amt = np.random.randint(60, 120)\n",
    "    time.sleep(sleep_amt)"
   ]
  },
  {
   "cell_type": "code",
   "execution_count": null,
   "metadata": {
    "collapsed": true
   },
   "outputs": [],
   "source": []
  }
 ],
 "metadata": {
  "kernelspec": {
   "display_name": "Python 2",
   "language": "python",
   "name": "python2"
  },
  "language_info": {
   "codemirror_mode": {
    "name": "ipython",
    "version": 2
   },
   "file_extension": ".py",
   "mimetype": "text/x-python",
   "name": "python",
   "nbconvert_exporter": "python",
   "pygments_lexer": "ipython2",
   "version": "2.7.12"
  }
 },
 "nbformat": 4,
 "nbformat_minor": 0
}
